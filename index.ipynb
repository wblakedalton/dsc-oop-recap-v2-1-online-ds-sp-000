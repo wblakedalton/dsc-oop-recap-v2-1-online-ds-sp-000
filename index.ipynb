{
 "cells": [
  {
   "cell_type": "markdown",
   "metadata": {},
   "source": [
    "# Object-Oriented Programming - Recap\n",
    "\n",
    "## Introduction\n",
    "\n",
    "In this section, you learned about Object-oriented programming (OOP) as a foundational practice for software development and programming.\n",
    "\n",
    "\n",
    "## OOP overview\n",
    "\n",
    "You now know all about OOP and how to define classes. Like functions, using classes in your programming can save you a lot of time by eliminating repetitive tasks. Classes go further than functions by allowing you to persist data. After all, class methods are fairly analogous to functions, while attributes add functionality by acting as data storage containers.\n",
    "\n",
    "## Class structure\n",
    "\n",
    "As you saw, the most basic class definition starts off with:  \n",
    "\n",
    "```python\n",
    "class ClassName:\n",
    "```\n",
    "\n",
    "From there, you then saw how you can further define class methods:  \n",
    "\n",
    "```python\n",
    "class ClassName:\n",
    "    def method_1(self):\n",
    "        pass # Ideally a method does something, but you get the point\n",
    "    def method_2(self):\n",
    "        print('This is a pretty useless second method.')\n",
    "```\n",
    "\n",
    "You also learned about `self`. Specifically, that `self` is the default parameter used to define methods. This is necessary since instance methods implicitly pass in the object itself as an argument during execution.\n",
    "\n",
    "## Creating instances\n",
    "\n",
    "Recall that after you define a class, you can then create instances of that class to bring it to life and use it! You're probably wondering what all of this has to do with data science. In turns out you'll use OOP principles when you start working with common data science libraries. For example, you might import the `LinearRegression` class from the scikit-learn library in order to create a regression model!\n",
    "\n",
    "Remember, creating an instance of a class would look like this:\n",
    "\n",
    "```python\n",
    "# Import class definition\n",
    "from sklearn.linear_model import LinearRegression() \n",
    "\n",
    "# Create an instance of the class\n",
    "reg = LinearRegression() \n",
    "```\n",
    "\n",
    "Once you create an instance object of the class, you can then use all the methods associated with that class!\n",
    "\n",
    "## Level up\n",
    "\n",
    "If you would like to dive deeper into OOP and learn some advanced topics, you can check out the additional OOP lessons and labs in the Appendix.\n",
    "\n",
    "## Summary\n",
    "\n",
    "Congrats, you now have a solid foundation in OOP! You first learned how to define a class and methods. Then you learned how to create an instance of a class and define instance attributes. These skills will be useful for collaboration and writing concise, modular code! "
   ]
  }
 ],
 "metadata": {
  "kernelspec": {
   "display_name": "Python 3",
   "language": "python",
   "name": "python3"
  },
  "language_info": {
   "codemirror_mode": {
    "name": "ipython",
    "version": 3
   },
   "file_extension": ".py",
   "mimetype": "text/x-python",
   "name": "python",
   "nbconvert_exporter": "python",
   "pygments_lexer": "ipython3",
   "version": "3.6.9"
  }
 },
 "nbformat": 4,
 "nbformat_minor": 2
}
